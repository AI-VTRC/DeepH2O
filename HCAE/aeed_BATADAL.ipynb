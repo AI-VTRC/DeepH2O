{
 "cells": [
  {
   "cell_type": "markdown",
   "metadata": {},
   "source": [
    "### Import modules "
   ]
  },
  {
   "cell_type": "code",
   "execution_count": 70,
   "metadata": {},
   "outputs": [],
   "source": [
    "# numpy stack\n",
    "import pandas as pd\n",
    "import numpy as np\n",
    "import matplotlib.pyplot as plt\n",
    "%matplotlib inline\n",
    "import seaborn as sns\n",
    "\n",
    "# keras callbacks\n",
    "# from keras.layers import Input, Dense\n",
    "# from keras.models import Model, load_model\n",
    "# from keras import optimizers\n",
    "from keras.callbacks import *\n",
    "\n",
    "# sklearn\n",
    "from sklearn.model_selection import train_test_split\n",
    "from sklearn.metrics import accuracy_score, f1_score, confusion_matrix, auc, precision_score, recall_score\n",
    "from sklearn.preprocessing import MinMaxScaler\n",
    "from keras.layers import Input, Dense\n",
    "from tensorflow.keras import optimizers\n",
    "from keras.models import Model, load_model\n",
    "from keras.layers import Input, Dense, Layer, InputSpec\n",
    "from keras.callbacks import ModelCheckpoint, TensorBoard\n",
    "from keras import regularizers, activations, initializers, constraints, Sequential\n",
    "from keras import backend as K\n",
    "from keras.constraints import UnitNorm, Constraint\n",
    "from sklearn.metrics import mean_squared_error\n",
    "\n",
    "# json\n",
    "import json\n",
    "\n",
    "# other\n",
    "import time\n",
    "\n",
    "\n",
    "# AutoEncoders for Event Detection (AEED)\n",
    "# from aeed import AEED, load_AEED"
   ]
  },
  {
   "cell_type": "markdown",
   "metadata": {},
   "source": [
    "### Class"
   ]
  },
  {
   "cell_type": "code",
   "execution_count": 71,
   "metadata": {
    "pycharm": {
     "name": "#%%\n"
    }
   },
   "outputs": [],
   "source": [
    "class DenseTied(Layer):\n",
    "    def __init__(self, units,\n",
    "                 activation=None,\n",
    "                 use_bias=True,\n",
    "                 kernel_initializer='glorot_uniform',\n",
    "                 bias_initializer='zeros',\n",
    "                 kernel_regularizer=None,\n",
    "                 bias_regularizer=None,\n",
    "                 activity_regularizer=None,\n",
    "                 kernel_constraint=None,\n",
    "                 bias_constraint=None,\n",
    "                 tied_to=None,\n",
    "                 **kwargs):\n",
    "        self.tied_to = tied_to\n",
    "        if 'input_shape' not in kwargs and 'input_dim' in kwargs:\n",
    "            kwargs['input_shape'] = (kwargs.pop('input_dim'),)\n",
    "        super().__init__(**kwargs)\n",
    "        self.units = units\n",
    "        self.activation = activations.get(activation)\n",
    "        self.use_bias = use_bias\n",
    "        self.kernel_initializer = initializers.get(kernel_initializer)\n",
    "        self.bias_initializer = initializers.get(bias_initializer)\n",
    "        self.kernel_regularizer = regularizers.get(kernel_regularizer)\n",
    "        self.bias_regularizer = regularizers.get(bias_regularizer)\n",
    "        self.activity_regularizer = regularizers.get(activity_regularizer)\n",
    "        self.kernel_constraint = constraints.get(kernel_constraint)\n",
    "        self.bias_constraint = constraints.get(bias_constraint)\n",
    "        self.input_spec = InputSpec(min_ndim=2)\n",
    "        self.supports_masking = True\n",
    "\n",
    "    def build(self, input_shape):\n",
    "        assert len(input_shape) >= 2\n",
    "        input_dim = input_shape[-1]\n",
    "\n",
    "        if self.tied_to is not None:\n",
    "            self.kernel = K.transpose(self.tied_to.kernel)\n",
    "            self._non_trainable_weights.append(self.kernel)\n",
    "        else:\n",
    "            self.kernel = self.add_weight(shape=(input_dim, self.units),\n",
    "                                          initializer=self.kernel_initializer,\n",
    "                                          name='kernel',\n",
    "                                          regularizer=self.kernel_regularizer,\n",
    "                                          constraint=self.kernel_constraint)\n",
    "        if self.use_bias:\n",
    "            self.bias = self.add_weight(shape=(self.units,),\n",
    "                                        initializer=self.bias_initializer,\n",
    "                                        name='bias',\n",
    "                                        regularizer=self.bias_regularizer,\n",
    "                                        constraint=self.bias_constraint)\n",
    "        else:\n",
    "            self.bias = None\n",
    "        self.input_spec = InputSpec(min_ndim=2, axes={-1: input_dim})\n",
    "        self.built = True\n",
    "\n",
    "    def compute_output_shape(self, input_shape):\n",
    "        assert input_shape and len(input_shape) >= 2\n",
    "        output_shape = list(input_shape)\n",
    "        output_shape[-1] = self.units\n",
    "        return tuple(output_shape)\n",
    "\n",
    "    def call(self, inputs):\n",
    "        output = K.dot(inputs, self.kernel)\n",
    "        if self.use_bias:\n",
    "            output = K.bias_add(output, self.bias, data_format='channels_last')\n",
    "        if self.activation is not None:\n",
    "            output = self.activation(output)\n",
    "        return output"
   ]
  },
  {
   "cell_type": "code",
   "execution_count": 72,
   "metadata": {
    "pycharm": {
     "name": "#%%\n"
    }
   },
   "outputs": [],
   "source": [
    "class WeightsOrthogonalityConstraint (Constraint):\n",
    "    def __init__(self, encoding_dim, weightage = 1.0, axis = 0):\n",
    "        self.encoding_dim = encoding_dim\n",
    "        self.weightage = weightage\n",
    "        self.axis = axis\n",
    "\n",
    "    def weights_orthogonality(self, w):\n",
    "        if(self.axis==1):\n",
    "            w = K.transpose(w)\n",
    "        if(self.encoding_dim > 1):\n",
    "            m = K.dot(K.transpose(w), w) - K.eye(self.encoding_dim)\n",
    "            return self.weightage * K.sqrt(K.sum(K.square(m)))\n",
    "        else:\n",
    "            m = K.sum(w ** 2) - 1.\n",
    "            return m\n",
    "\n",
    "    def __call__(self, w):\n",
    "        return self.weights_orthogonality(w)"
   ]
  },
  {
   "cell_type": "code",
   "execution_count": 73,
   "metadata": {
    "pycharm": {
     "name": "#%%\n"
    }
   },
   "outputs": [],
   "source": [
    "# classes\n",
    "class AutoEncoder(object):\n",
    "    \"\"\" Keras-based AutoEncoder (AE) class used for event detection.\n",
    "\n",
    "        Attributes:\n",
    "        params: dictionary with parameters defining the AE structure,\n",
    "    \"\"\"\n",
    "    def __init__(self, **kwargs):\n",
    "        \"\"\" Class constructor, stores parameters and initialize AE Keras model. \"\"\"\n",
    "\n",
    "        # Default parameters values. If nI is not given, the code will crash later.\n",
    "        params = {\n",
    "            'nI': None,\n",
    "            'nH': 3,\n",
    "            'cf': 1,\n",
    "            'activation' : 'tanh',\n",
    "            'optimizer' : None,\n",
    "            'verbose' : 0\n",
    "            }\n",
    "\n",
    "        for key,item in kwargs.items():\n",
    "            params[key] = item\n",
    "\n",
    "        self.params = params\n",
    "\n",
    "    def create_model(self):\n",
    "        \"\"\" Creates Keras AE model.\n",
    "\n",
    "            The model has nI inputs, nH hidden layers in the encoder (and decoder)\n",
    "            and cf compression factor. The compression factor is the ratio between\n",
    "            the number of inputs and the innermost hidden layer which stands between\n",
    "            the encoder and the decoder. The size of the hidden layers between the\n",
    "            input (output) layer and the innermost layer decreases (increase) linearly\n",
    "            according to the cg.\n",
    "        \"\"\"\n",
    "\n",
    "        # retrieve params\n",
    "        nI = self.params['nI'] # number of inputs\n",
    "        nH = self.params['nH'] # number of hidden layers in encoder (decoder)\n",
    "        cf = self.params['cf'] # compression factor\n",
    "        activation = self.params['activation'] # autoencoder activation function\n",
    "        optimizer = self.params['optimizer'] # Keras optimizer\n",
    "        verbose = self.params['verbose'] # echo on screen\n",
    "\n",
    "        # get number/size of hidden layers for encoder and decoder\n",
    "        temp = np.linspace(nI,nI/cf,nH + 1).astype(int)\n",
    "        nH_enc = temp[1:]\n",
    "        nH_dec = temp[:-1][::-1]\n",
    "\n",
    "        # input layer placeholder\n",
    "        input_layer = Input(shape=(nI,))\n",
    "\n",
    "        # build encoder\n",
    "        for i, layer_size in enumerate(nH_enc):\n",
    "            if i == 0:\n",
    "                # first hidden layer\n",
    "                encoder = Dense(layer_size, activation=activation,use_bias=True)(input_layer)\n",
    "            else:\n",
    "                # other hidden layers\n",
    "                encoder = Dense(layer_size, activation=activation,use_bias=True)(encoder)\n",
    "\n",
    "        # build decoder\n",
    "        for i, layer_size in enumerate(nH_dec):\n",
    "            if i == 0:\n",
    "                # first hidden layer\n",
    "                decoder = DenseTied(layer_size, activation=activation,use_bias=True)(encoder)\n",
    "            else:\n",
    "                # other hidden layers\n",
    "                decoder = DenseTied(layer_size, activation=activation,use_bias=True)(decoder)\n",
    "\n",
    "        # create autoencoder\n",
    "        autoencoder = Model(input_layer, decoder)\n",
    "        if optimizer == None:\n",
    "            optimizer = optimizers.Adam(learning_rate = 0.001)\n",
    "\n",
    "        # print autoencoder specs\n",
    "        if verbose > 0:\n",
    "            print('Created autoencoder with structure:');\n",
    "            print(', '.join('layer_{}: {}'.format(v, i) for v, i in enumerate(np.hstack([nI,nH_enc,nH_dec]))))\n",
    "\n",
    "        # compile and return model\n",
    "        autoencoder.compile(optimizer=optimizer, loss='mean_squared_error')\n",
    "        return autoencoder\n",
    "\n",
    "    def train(self, x, **train_params):\n",
    "        \"\"\" Train autoencoder,\n",
    "\n",
    "            x: inputs (inputs == targets, AE are self-supervised ANN).\n",
    "        \"\"\"\n",
    "        if self.params['verbose']:\n",
    "            if self.ann == None:\n",
    "                print('Creating model.')\n",
    "                self.create_model()\n",
    "        self.ann.fit(x, x, **train_params)\n",
    "\n",
    "\n",
    "    def predict(self, x, test_params={}):\n",
    "        \"\"\" Yields reconstruction error for all inputs,\n",
    "\n",
    "            x: inputs.\n",
    "        \"\"\"\n",
    "        return self.ann.predict(x, **test_params)\n",
    "\n",
    "class AEED(AutoEncoder):\n",
    "    \"\"\" This class extends the AutoEncoder class to include event detection\n",
    "        functionalities.\n",
    "    \"\"\"\n",
    "    def initialize(self):\n",
    "        \"\"\" Create the underlying Keras model. \"\"\"\n",
    "        self.ann = self.create_model()\n",
    "\n",
    "    def predict(self, x, **keras_params):\n",
    "        \"\"\" Predict with autoencoder. \"\"\"\n",
    "        preds = pd.DataFrame(index=x.index,columns=x.columns,\n",
    "                                            data=super(AEED, self).predict(x.values,keras_params))\n",
    "        errors = (x-preds)**2\n",
    "        return preds, errors\n",
    "\n",
    "    def detect(self, x, theta, window = 12, average=True, sys_theta = 0, **keras_params):\n",
    "        \"\"\" Detection performed based on (smoothed) reconstruction errors.\n",
    "\n",
    "            x = inputs,\n",
    "            theta = threshold, attack flagged if reconstruction error > threshold,\n",
    "            window = length of the smoothing window (default = 1 timestep, i.e. no smoothing),\n",
    "            average = boolean (default = False), if True the detection is performed\n",
    "                on the average reconstruction error across all outputs,\n",
    "            keras_params = parameters for the Keras-based AE prediction.\n",
    "        \"\"\"\n",
    "        #        preds = super(AEED, self).predict(x,keras_params)\n",
    "        preds, temp = self.predict(x, **keras_params)\n",
    "        temp = (x-preds)**2\n",
    "        if average:\n",
    "            errors = temp.mean(axis=1).rolling(window=window).mean()\n",
    "            detection = errors > theta\n",
    "        else:\n",
    "            # errors = temp.rolling(window=window).mean()\n",
    "            errors = temp.ewm(alpha=0.003, adjust=False).mean()\n",
    "            detection = errors.apply(lambda x: x>np.max(theta.name, sys_theta))\n",
    "\n",
    "        return detection, errors\n",
    "\n",
    "    def save(self, filename):\n",
    "        \"\"\" Save AEED model.\n",
    "\n",
    "            AEED parameters saved in a .json, while Keras model is stored in .h5 .\n",
    "        \"\"\"\n",
    "        # parameters\n",
    "        with open(filename+'.json', 'w') as fp:\n",
    "            json.dump(self.params, fp)\n",
    "        # keras model\n",
    "        self.ann.save(filename+'.h5')\n",
    "        # echo\n",
    "        print('Saved AEED parameters to {0}.\\nKeras model saved to {1}'.format(filename+'.json', filename+'.h5'))\n",
    "\n",
    "\n",
    "# functions\n",
    "def load_AEED(params_filename, model_filename):\n",
    "    \"\"\" Load stored AEED. \"\"\"\n",
    "    # load params and create AEED\n",
    "    with open(params_filename) as fd:\n",
    "        params = json.load(fd)\n",
    "    aeed = AEED(**params)\n",
    "\n",
    "    # load keras model\n",
    "    aeed.ann = load_model(model_filename)\n",
    "    return aeed\n"
   ]
  },
  {
   "cell_type": "markdown",
   "metadata": {
    "pycharm": {
     "name": "#%% md\n"
    }
   },
   "source": [
    "### Load and preprocess training data"
   ]
  },
  {
   "cell_type": "code",
   "execution_count": 74,
   "metadata": {
    "collapsed": true
   },
   "outputs": [],
   "source": [
    "# load training dataset\n",
    "data_path = \"./data/\"\n",
    "df_train_orig = pd.read_csv(data_path + \"dataset03.csv\", parse_dates = ['DATETIME'], dayfirst=True)"
   ]
  },
  {
   "cell_type": "code",
   "execution_count": 75,
   "metadata": {
    "collapsed": true
   },
   "outputs": [],
   "source": [
    "# get dates and columns with sensor readings\n",
    "dates_train = df_train_orig['DATETIME']\n",
    "sensor_cols = [col for col in df_train_orig.columns if col not in ['DATETIME','ATT_FLAG']]\n",
    "\n",
    "# scale sensor data\n",
    "scaler = MinMaxScaler()\n",
    "X = pd.DataFrame(index = df_train_orig.index, columns = sensor_cols, data = scaler.fit_transform(df_train_orig[sensor_cols]))\n",
    "\n",
    "# split into training and validation\n",
    "X1, X2, _, _  = train_test_split(X, X, test_size=0.33, random_state=42)"
   ]
  },
  {
   "cell_type": "markdown",
   "metadata": {},
   "source": [
    "### Train autoencoder"
   ]
  },
  {
   "cell_type": "code",
   "execution_count": 76,
   "metadata": {},
   "outputs": [
    {
     "name": "stdout",
     "output_type": "stream",
     "text": [
      "Created autoencoder with structure:\n",
      "layer_0: 43, layer_1: 32, layer_2: 22, layer_3: 12, layer_4: 22, layer_5: 32, layer_6: 43\n"
     ]
    }
   ],
   "source": [
    "# define model parameters\n",
    "params = {\n",
    "    'nI' : X.shape[1],\n",
    "    'nH' : 3,\n",
    "    'cf' : 2.5,\n",
    "    'activation' : 'tanh',\n",
    "    'verbose' : 1,\n",
    "}\n",
    "\n",
    "# create AutoEncoder for Event Detection (AEED)\n",
    "autoencoder = AEED(**params)\n",
    "autoencoder.initialize()"
   ]
  },
  {
   "cell_type": "code",
   "execution_count": 77,
   "metadata": {},
   "outputs": [
    {
     "name": "stdout",
     "output_type": "stream",
     "text": [
      "WARNING:tensorflow:`epsilon` argument is deprecated and will be removed, use `min_delta` instead.\n",
      "Epoch 1/500\n",
      "184/184 - 1s - loss: 0.0814 - val_loss: 0.0341\n",
      "Epoch 2/500\n",
      "184/184 - 0s - loss: 0.0228 - val_loss: 0.0157\n",
      "Epoch 3/500\n",
      "184/184 - 0s - loss: 0.0137 - val_loss: 0.0105\n",
      "Epoch 4/500\n",
      "184/184 - 0s - loss: 0.0099 - val_loss: 0.0086\n",
      "Epoch 5/500\n",
      "184/184 - 0s - loss: 0.0082 - val_loss: 0.0075\n",
      "Epoch 6/500\n",
      "184/184 - 0s - loss: 0.0074 - val_loss: 0.0070\n",
      "Epoch 7/500\n",
      "184/184 - 0s - loss: 0.0070 - val_loss: 0.0065\n",
      "Epoch 8/500\n",
      "184/184 - 0s - loss: 0.0066 - val_loss: 0.0062\n",
      "Epoch 9/500\n",
      "184/184 - 0s - loss: 0.0061 - val_loss: 0.0056\n",
      "Epoch 10/500\n",
      "184/184 - 0s - loss: 0.0052 - val_loss: 0.0045\n",
      "Epoch 11/500\n",
      "184/184 - 0s - loss: 0.0041 - val_loss: 0.0036\n",
      "Epoch 12/500\n",
      "184/184 - 0s - loss: 0.0034 - val_loss: 0.0030\n",
      "Epoch 13/500\n",
      "184/184 - 0s - loss: 0.0029 - val_loss: 0.0027\n",
      "Epoch 14/500\n",
      "184/184 - 0s - loss: 0.0027 - val_loss: 0.0025\n",
      "Epoch 15/500\n",
      "184/184 - 0s - loss: 0.0025 - val_loss: 0.0024\n",
      "Epoch 16/500\n",
      "184/184 - 0s - loss: 0.0024 - val_loss: 0.0023\n",
      "Epoch 17/500\n",
      "184/184 - 0s - loss: 0.0023 - val_loss: 0.0022\n",
      "Epoch 18/500\n",
      "184/184 - 0s - loss: 0.0022 - val_loss: 0.0021\n",
      "Epoch 19/500\n",
      "184/184 - 0s - loss: 0.0021 - val_loss: 0.0021\n",
      "Epoch 20/500\n",
      "184/184 - 0s - loss: 0.0021 - val_loss: 0.0020\n",
      "Epoch 21/500\n",
      "184/184 - 0s - loss: 0.0021 - val_loss: 0.0020\n",
      "Epoch 22/500\n",
      "184/184 - 0s - loss: 0.0021 - val_loss: 0.0020\n",
      "Epoch 23/500\n",
      "184/184 - 0s - loss: 0.0021 - val_loss: 0.0020\n"
     ]
    }
   ],
   "source": [
    "# train models with early stopping and reduction of learning rate on plateau\n",
    "earlyStopping= EarlyStopping(monitor='val_loss', patience=3, verbose=0,  min_delta=1e-4, mode='auto')\n",
    "lr_reduced = ReduceLROnPlateau(monitor='val_loss', factor=0.5, patience=1, verbose=0, epsilon=1e-4, mode='min')\n",
    "    \n",
    "# initialize time\n",
    "start_time = time.time()\n",
    "\n",
    "# train autoencoder\n",
    "autoencoder.train(X1.values,\n",
    "            epochs=500,\n",
    "            batch_size=32,\n",
    "            shuffle=False,\n",
    "            callbacks = [earlyStopping, lr_reduced],\n",
    "            verbose = 2,\n",
    "            validation_data=(X2.values, X2.values))\n",
    "\n"
   ]
  },
  {
   "cell_type": "markdown",
   "metadata": {},
   "source": [
    "### Test autoencoder"
   ]
  },
  {
   "cell_type": "code",
   "execution_count": 78,
   "metadata": {
    "collapsed": true
   },
   "outputs": [],
   "source": [
    "# assess detection\n",
    "def compute_scores(Y,Yhat):\n",
    "    return [accuracy_score(Y,Yhat),f1_score(Y,Yhat),precision_score(Y,Yhat),recall_score(Y,Yhat)]"
   ]
  },
  {
   "cell_type": "code",
   "execution_count": 79,
   "metadata": {
    "collapsed": true
   },
   "outputs": [],
   "source": [
    "# Load dataset with attacks\n",
    "df_test_01 = pd.read_csv(data_path + \"dataset04.csv\", parse_dates = ['DATETIME'], dayfirst=True)\n",
    "df_test_02 = pd.read_csv(data_path + \"test_dataset.csv\", parse_dates = ['DATETIME'], dayfirst=True)\n",
    "\n",
    "# scale datasets\n",
    "X3 = pd.DataFrame(index = df_test_01.index, columns = sensor_cols, \n",
    "                  data = scaler.transform(df_test_01[sensor_cols]))\n",
    "X4 = pd.DataFrame(index = df_test_02.index, columns = sensor_cols, \n",
    "                  data = scaler.transform(df_test_02[sensor_cols]))\n",
    "\n",
    "# get targets\n",
    "Y3 = df_test_01['ATT_FLAG']\n",
    "Y4 = df_test_02['ATT_FLAG']"
   ]
  },
  {
   "cell_type": "code",
   "execution_count": 80,
   "metadata": {},
   "outputs": [
    {
     "name": "stderr",
     "output_type": "stream",
     "text": [
      "/Users/nazmul/opt/anaconda3/envs/aeed-master/lib/python3.6/site-packages/seaborn/_decorators.py:43: FutureWarning: Pass the following variable as a keyword arg: x. From version 0.12, the only valid positional argument will be `data`, and passing other arguments without an explicit keyword will result in an error or misinterpretation.\n",
      "  FutureWarning\n"
     ]
    },
    {
     "data": {
      "image/png": "[encoded data removed]",
      "text/plain": [
       "<Figure size 576x288 with 1 Axes>"
      ]
     },
     "metadata": {
      "needs_background": "light"
     },
     "output_type": "display_data"
    }
   ],
   "source": [
    "# perform detection\n",
    "\n",
    "# get validation reconstruction errors\n",
    "_, validation_errors = autoencoder.predict(X2)\n",
    "#validation_errors.ewm(alpha=0.003, adjust=False).mean()\n",
    "# plot distribution of average validation reconstruction errors \n",
    "f, ax = plt.subplots(1, figsize = (8,4))\n",
    "sns.boxplot(validation_errors.mean(axis=1), ax=ax)\n",
    "ax.set_xlim([0,0.01])\n",
    "\n",
    "ax.set_title('Boxplot of average validation reconstruction errors')\n",
    "\n",
    "# set treshold as quantile of average reconstruction error\n",
    "theta = validation_errors.mean(axis = 1).quantile(0.985)\n",
    "\n",
    "Yhat3, _ = autoencoder.detect(X3, theta = theta , window = 12, average=True)\n",
    "Yhat4, _ = autoencoder.detect(X4, theta = theta, window = 12, average=True)"
   ]
  },
  {
   "cell_type": "code",
   "execution_count": 81,
   "metadata": {},
   "outputs": [
    {
     "name": "stdout",
     "output_type": "stream",
     "text": [
      "Results:\n",
      "\n",
      "                 accuracy  f1_score precision    recall\n",
      "test dataset 01  0.946852  0.757112  0.819905  0.703252\n",
      "test dataset 02  0.935376  0.821192  0.890805  0.761671\n"
     ]
    }
   ],
   "source": [
    "results = pd.DataFrame(index = ['test dataset 01','test dataset 02'], \n",
    "                       columns = ['accuracy','f1_score','precision','recall'])\n",
    "results.loc['test dataset 01'] = compute_scores(Y3,Yhat3)\n",
    "results.loc['test dataset 02'] = compute_scores(Y4,Yhat4)\n",
    "\n",
    "print('Results:\\n')\n",
    "print(results)"
   ]
  },
  {
   "cell_type": "code",
   "execution_count": 82,
   "metadata": {},
   "outputs": [
    {
     "data": {
      "text/plain": [
       "[Text(0, 0, 'NO ATTACK'), Text(0, 1, 'ATTACK')]"
      ]
     },
     "execution_count": 82,
     "metadata": {},
     "output_type": "execute_result"
    },
    {
     "data": {
      "image/png": "[encoded data removed]",
      "text/plain": [
       "<Figure size 1440x576 with 2 Axes>"
      ]
     },
     "metadata": {
      "needs_background": "light"
     },
     "output_type": "display_data"
    }
   ],
   "source": [
    "# plot figures\n",
    "shade_of_gray = '0.75'\n",
    "f, axes = plt.subplots(2,figsize = (20,8))\n",
    "axes[0].plot(Yhat3, color = shade_of_gray, label = 'predicted state')\n",
    "axes[0].fill_between(Yhat3.index, Yhat3.values, where=Yhat3.values <=1, interpolate=True, color=shade_of_gray)\n",
    "axes[0].plot(Y3, color = 'r', alpha = 0.85, lw = 3, label = 'real state')\n",
    "axes[0].set_title('Detection trajectory on test dataset 01', fontsize = 14)\n",
    "axes[0].set_yticks([0,1])\n",
    "axes[0].set_yticklabels(['NO ATTACK','ATTACK'])\n",
    "axes[0].legend(fontsize = 12, loc = 2)\n",
    "\n",
    "axes[1].plot(Yhat4, color = shade_of_gray, label = 'predicted state')\n",
    "axes[1].fill_between(Yhat4.index, Yhat4.values, where=Yhat4.values <=1, interpolate=True, color=shade_of_gray)\n",
    "axes[1].plot(Y4, color = 'r', alpha = 0.75, lw = 3, label = 'real state')\n",
    "axes[1].set_title('Detection trajectory on test dataset 02', fontsize = 14)\n",
    "axes[1].set_yticks([0,1])\n",
    "axes[1].set_yticklabels(['NO ATTACK','ATTACK'])"
   ]
  },
  {
   "cell_type": "code",
   "execution_count": 83,
   "metadata": {},
   "outputs": [
    {
     "name": "stderr",
     "output_type": "stream",
     "text": [
      "/Users/nazmul/opt/anaconda3/envs/aeed-master/lib/python3.6/site-packages/keras/utils/generic_utils.py:497: CustomMaskWarning: Custom mask layers require a config and must override get_config. When loading, the custom mask layer must be passed to the custom_objects argument.\n",
      "  category=CustomMaskWarning)\n"
     ]
    },
    {
     "ename": "NotImplementedError",
     "evalue": "Layer DenseTied has arguments in `__init__` and therefore must override `get_config`.",
     "output_type": "error",
     "traceback": [
      "\u001B[0;31m---------------------------------------------------------------------------\u001B[0m",
      "\u001B[0;31mNotImplementedError\u001B[0m                       Traceback (most recent call last)",
      "\u001B[0;32m<ipython-input-83-e08115c76b19>\u001B[0m in \u001B[0;36m<module>\u001B[0;34m\u001B[0m\n\u001B[1;32m      1\u001B[0m \u001B[0;31m# save autoencoder\u001B[0m\u001B[0;34m\u001B[0m\u001B[0;34m\u001B[0m\u001B[0;34m\u001B[0m\u001B[0m\n\u001B[0;32m----> 2\u001B[0;31m \u001B[0mautoencoder\u001B[0m\u001B[0;34m.\u001B[0m\u001B[0msave\u001B[0m\u001B[0;34m(\u001B[0m\u001B[0;34m'autoencoder'\u001B[0m\u001B[0;34m)\u001B[0m\u001B[0;34m\u001B[0m\u001B[0;34m\u001B[0m\u001B[0m\n\u001B[0m\u001B[1;32m      3\u001B[0m \u001B[0;32mdel\u001B[0m \u001B[0mautoencoder\u001B[0m\u001B[0;34m\u001B[0m\u001B[0;34m\u001B[0m\u001B[0m\n",
      "\u001B[0;32m<ipython-input-73-ac477dabe5c3>\u001B[0m in \u001B[0;36msave\u001B[0;34m(self, filename)\u001B[0m\n\u001B[1;32m    149\u001B[0m             \u001B[0mjson\u001B[0m\u001B[0;34m.\u001B[0m\u001B[0mdump\u001B[0m\u001B[0;34m(\u001B[0m\u001B[0mself\u001B[0m\u001B[0;34m.\u001B[0m\u001B[0mparams\u001B[0m\u001B[0;34m,\u001B[0m \u001B[0mfp\u001B[0m\u001B[0;34m)\u001B[0m\u001B[0;34m\u001B[0m\u001B[0;34m\u001B[0m\u001B[0m\n\u001B[1;32m    150\u001B[0m         \u001B[0;31m# keras model\u001B[0m\u001B[0;34m\u001B[0m\u001B[0;34m\u001B[0m\u001B[0;34m\u001B[0m\u001B[0m\n\u001B[0;32m--> 151\u001B[0;31m         \u001B[0mself\u001B[0m\u001B[0;34m.\u001B[0m\u001B[0mann\u001B[0m\u001B[0;34m.\u001B[0m\u001B[0msave\u001B[0m\u001B[0;34m(\u001B[0m\u001B[0mfilename\u001B[0m\u001B[0;34m+\u001B[0m\u001B[0;34m'.h5'\u001B[0m\u001B[0;34m)\u001B[0m\u001B[0;34m\u001B[0m\u001B[0;34m\u001B[0m\u001B[0m\n\u001B[0m\u001B[1;32m    152\u001B[0m         \u001B[0;31m# echo\u001B[0m\u001B[0;34m\u001B[0m\u001B[0;34m\u001B[0m\u001B[0;34m\u001B[0m\u001B[0m\n\u001B[1;32m    153\u001B[0m         \u001B[0mprint\u001B[0m\u001B[0;34m(\u001B[0m\u001B[0;34m'Saved AEED parameters to {0}.\\nKeras model saved to {1}'\u001B[0m\u001B[0;34m.\u001B[0m\u001B[0mformat\u001B[0m\u001B[0;34m(\u001B[0m\u001B[0mfilename\u001B[0m\u001B[0;34m+\u001B[0m\u001B[0;34m'.json'\u001B[0m\u001B[0;34m,\u001B[0m \u001B[0mfilename\u001B[0m\u001B[0;34m+\u001B[0m\u001B[0;34m'.h5'\u001B[0m\u001B[0;34m)\u001B[0m\u001B[0;34m)\u001B[0m\u001B[0;34m\u001B[0m\u001B[0;34m\u001B[0m\u001B[0m\n",
      "\u001B[0;32m~/opt/anaconda3/envs/aeed-master/lib/python3.6/site-packages/keras/engine/training.py\u001B[0m in \u001B[0;36msave\u001B[0;34m(self, filepath, overwrite, include_optimizer, save_format, signatures, options, save_traces)\u001B[0m\n\u001B[1;32m   2144\u001B[0m     \u001B[0;31m# pylint: enable=line-too-long\u001B[0m\u001B[0;34m\u001B[0m\u001B[0;34m\u001B[0m\u001B[0;34m\u001B[0m\u001B[0m\n\u001B[1;32m   2145\u001B[0m     save.save_model(self, filepath, overwrite, include_optimizer, save_format,\n\u001B[0;32m-> 2146\u001B[0;31m                     signatures, options, save_traces)\n\u001B[0m\u001B[1;32m   2147\u001B[0m \u001B[0;34m\u001B[0m\u001B[0m\n\u001B[1;32m   2148\u001B[0m   def save_weights(self,\n",
      "\u001B[0;32m~/opt/anaconda3/envs/aeed-master/lib/python3.6/site-packages/keras/saving/save.py\u001B[0m in \u001B[0;36msave_model\u001B[0;34m(model, filepath, overwrite, include_optimizer, save_format, signatures, options, save_traces)\u001B[0m\n\u001B[1;32m    144\u001B[0m           'or using `save_weights`.')\n\u001B[1;32m    145\u001B[0m     hdf5_format.save_model_to_hdf5(\n\u001B[0;32m--> 146\u001B[0;31m         model, filepath, overwrite, include_optimizer)\n\u001B[0m\u001B[1;32m    147\u001B[0m   \u001B[0;32melse\u001B[0m\u001B[0;34m:\u001B[0m\u001B[0;34m\u001B[0m\u001B[0;34m\u001B[0m\u001B[0m\n\u001B[1;32m    148\u001B[0m     \u001B[0;32mwith\u001B[0m \u001B[0mgeneric_utils\u001B[0m\u001B[0;34m.\u001B[0m\u001B[0mSharedObjectSavingScope\u001B[0m\u001B[0;34m(\u001B[0m\u001B[0;34m)\u001B[0m\u001B[0;34m:\u001B[0m\u001B[0;34m\u001B[0m\u001B[0;34m\u001B[0m\u001B[0m\n",
      "\u001B[0;32m~/opt/anaconda3/envs/aeed-master/lib/python3.6/site-packages/keras/saving/hdf5_format.py\u001B[0m in \u001B[0;36msave_model_to_hdf5\u001B[0;34m(model, filepath, overwrite, include_optimizer)\u001B[0m\n\u001B[1;32m    108\u001B[0m \u001B[0;34m\u001B[0m\u001B[0m\n\u001B[1;32m    109\u001B[0m   \u001B[0;32mtry\u001B[0m\u001B[0;34m:\u001B[0m\u001B[0;34m\u001B[0m\u001B[0;34m\u001B[0m\u001B[0m\n\u001B[0;32m--> 110\u001B[0;31m     \u001B[0mmodel_metadata\u001B[0m \u001B[0;34m=\u001B[0m \u001B[0msaving_utils\u001B[0m\u001B[0;34m.\u001B[0m\u001B[0mmodel_metadata\u001B[0m\u001B[0;34m(\u001B[0m\u001B[0mmodel\u001B[0m\u001B[0;34m,\u001B[0m \u001B[0minclude_optimizer\u001B[0m\u001B[0;34m)\u001B[0m\u001B[0;34m\u001B[0m\u001B[0;34m\u001B[0m\u001B[0m\n\u001B[0m\u001B[1;32m    111\u001B[0m     \u001B[0;32mfor\u001B[0m \u001B[0mk\u001B[0m\u001B[0;34m,\u001B[0m \u001B[0mv\u001B[0m \u001B[0;32min\u001B[0m \u001B[0mmodel_metadata\u001B[0m\u001B[0;34m.\u001B[0m\u001B[0mitems\u001B[0m\u001B[0;34m(\u001B[0m\u001B[0;34m)\u001B[0m\u001B[0;34m:\u001B[0m\u001B[0;34m\u001B[0m\u001B[0;34m\u001B[0m\u001B[0m\n\u001B[1;32m    112\u001B[0m       \u001B[0;32mif\u001B[0m \u001B[0misinstance\u001B[0m\u001B[0;34m(\u001B[0m\u001B[0mv\u001B[0m\u001B[0;34m,\u001B[0m \u001B[0;34m(\u001B[0m\u001B[0mdict\u001B[0m\u001B[0;34m,\u001B[0m \u001B[0mlist\u001B[0m\u001B[0;34m,\u001B[0m \u001B[0mtuple\u001B[0m\u001B[0;34m)\u001B[0m\u001B[0;34m)\u001B[0m\u001B[0;34m:\u001B[0m\u001B[0;34m\u001B[0m\u001B[0;34m\u001B[0m\u001B[0m\n",
      "\u001B[0;32m~/opt/anaconda3/envs/aeed-master/lib/python3.6/site-packages/keras/saving/saving_utils.py\u001B[0m in \u001B[0;36mmodel_metadata\u001B[0;34m(model, include_optimizer, require_config)\u001B[0m\n\u001B[1;32m    146\u001B[0m   \u001B[0;32mexcept\u001B[0m \u001B[0mNotImplementedError\u001B[0m \u001B[0;32mas\u001B[0m \u001B[0me\u001B[0m\u001B[0;34m:\u001B[0m\u001B[0;34m\u001B[0m\u001B[0;34m\u001B[0m\u001B[0m\n\u001B[1;32m    147\u001B[0m     \u001B[0;32mif\u001B[0m \u001B[0mrequire_config\u001B[0m\u001B[0;34m:\u001B[0m\u001B[0;34m\u001B[0m\u001B[0;34m\u001B[0m\u001B[0m\n\u001B[0;32m--> 148\u001B[0;31m       \u001B[0;32mraise\u001B[0m \u001B[0me\u001B[0m\u001B[0;34m\u001B[0m\u001B[0;34m\u001B[0m\u001B[0m\n\u001B[0m\u001B[1;32m    149\u001B[0m \u001B[0;34m\u001B[0m\u001B[0m\n\u001B[1;32m    150\u001B[0m   metadata = dict(\n",
      "\u001B[0;32m~/opt/anaconda3/envs/aeed-master/lib/python3.6/site-packages/keras/saving/saving_utils.py\u001B[0m in \u001B[0;36mmodel_metadata\u001B[0;34m(model, include_optimizer, require_config)\u001B[0m\n\u001B[1;32m    143\u001B[0m   \u001B[0mmodel_config\u001B[0m \u001B[0;34m=\u001B[0m \u001B[0;34m{\u001B[0m\u001B[0;34m'class_name'\u001B[0m\u001B[0;34m:\u001B[0m \u001B[0mmodel\u001B[0m\u001B[0;34m.\u001B[0m\u001B[0m__class__\u001B[0m\u001B[0;34m.\u001B[0m\u001B[0m__name__\u001B[0m\u001B[0;34m}\u001B[0m\u001B[0;34m\u001B[0m\u001B[0;34m\u001B[0m\u001B[0m\n\u001B[1;32m    144\u001B[0m   \u001B[0;32mtry\u001B[0m\u001B[0;34m:\u001B[0m\u001B[0;34m\u001B[0m\u001B[0;34m\u001B[0m\u001B[0m\n\u001B[0;32m--> 145\u001B[0;31m     \u001B[0mmodel_config\u001B[0m\u001B[0;34m[\u001B[0m\u001B[0;34m'config'\u001B[0m\u001B[0;34m]\u001B[0m \u001B[0;34m=\u001B[0m \u001B[0mmodel\u001B[0m\u001B[0;34m.\u001B[0m\u001B[0mget_config\u001B[0m\u001B[0;34m(\u001B[0m\u001B[0;34m)\u001B[0m\u001B[0;34m\u001B[0m\u001B[0;34m\u001B[0m\u001B[0m\n\u001B[0m\u001B[1;32m    146\u001B[0m   \u001B[0;32mexcept\u001B[0m \u001B[0mNotImplementedError\u001B[0m \u001B[0;32mas\u001B[0m \u001B[0me\u001B[0m\u001B[0;34m:\u001B[0m\u001B[0;34m\u001B[0m\u001B[0;34m\u001B[0m\u001B[0m\n\u001B[1;32m    147\u001B[0m     \u001B[0;32mif\u001B[0m \u001B[0mrequire_config\u001B[0m\u001B[0;34m:\u001B[0m\u001B[0;34m\u001B[0m\u001B[0;34m\u001B[0m\u001B[0m\n",
      "\u001B[0;32m~/opt/anaconda3/envs/aeed-master/lib/python3.6/site-packages/keras/engine/functional.py\u001B[0m in \u001B[0;36mget_config\u001B[0;34m(self)\u001B[0m\n\u001B[1;32m    641\u001B[0m \u001B[0;34m\u001B[0m\u001B[0m\n\u001B[1;32m    642\u001B[0m   \u001B[0;32mdef\u001B[0m \u001B[0mget_config\u001B[0m\u001B[0;34m(\u001B[0m\u001B[0mself\u001B[0m\u001B[0;34m)\u001B[0m\u001B[0;34m:\u001B[0m\u001B[0;34m\u001B[0m\u001B[0;34m\u001B[0m\u001B[0m\n\u001B[0;32m--> 643\u001B[0;31m     \u001B[0;32mreturn\u001B[0m \u001B[0mcopy\u001B[0m\u001B[0;34m.\u001B[0m\u001B[0mdeepcopy\u001B[0m\u001B[0;34m(\u001B[0m\u001B[0mget_network_config\u001B[0m\u001B[0;34m(\u001B[0m\u001B[0mself\u001B[0m\u001B[0;34m)\u001B[0m\u001B[0;34m)\u001B[0m\u001B[0;34m\u001B[0m\u001B[0;34m\u001B[0m\u001B[0m\n\u001B[0m\u001B[1;32m    644\u001B[0m \u001B[0;34m\u001B[0m\u001B[0m\n\u001B[1;32m    645\u001B[0m   \u001B[0;34m@\u001B[0m\u001B[0mclassmethod\u001B[0m\u001B[0;34m\u001B[0m\u001B[0;34m\u001B[0m\u001B[0m\n",
      "\u001B[0;32m~/opt/anaconda3/envs/aeed-master/lib/python3.6/site-packages/keras/engine/functional.py\u001B[0m in \u001B[0;36mget_network_config\u001B[0;34m(network, serialize_layer_fn)\u001B[0m\n\u001B[1;32m   1347\u001B[0m           \u001B[0mfiltered_inbound_nodes\u001B[0m\u001B[0;34m.\u001B[0m\u001B[0mappend\u001B[0m\u001B[0;34m(\u001B[0m\u001B[0mnode_data\u001B[0m\u001B[0;34m)\u001B[0m\u001B[0;34m\u001B[0m\u001B[0;34m\u001B[0m\u001B[0m\n\u001B[1;32m   1348\u001B[0m \u001B[0;34m\u001B[0m\u001B[0m\n\u001B[0;32m-> 1349\u001B[0;31m       \u001B[0mlayer_config\u001B[0m \u001B[0;34m=\u001B[0m \u001B[0mserialize_layer_fn\u001B[0m\u001B[0;34m(\u001B[0m\u001B[0mlayer\u001B[0m\u001B[0;34m)\u001B[0m\u001B[0;34m\u001B[0m\u001B[0;34m\u001B[0m\u001B[0m\n\u001B[0m\u001B[1;32m   1350\u001B[0m       \u001B[0mlayer_config\u001B[0m\u001B[0;34m[\u001B[0m\u001B[0;34m'name'\u001B[0m\u001B[0;34m]\u001B[0m \u001B[0;34m=\u001B[0m \u001B[0mlayer\u001B[0m\u001B[0;34m.\u001B[0m\u001B[0mname\u001B[0m\u001B[0;34m\u001B[0m\u001B[0;34m\u001B[0m\u001B[0m\n\u001B[1;32m   1351\u001B[0m       \u001B[0mlayer_config\u001B[0m\u001B[0;34m[\u001B[0m\u001B[0;34m'inbound_nodes'\u001B[0m\u001B[0;34m]\u001B[0m \u001B[0;34m=\u001B[0m \u001B[0mfiltered_inbound_nodes\u001B[0m\u001B[0;34m\u001B[0m\u001B[0;34m\u001B[0m\u001B[0m\n",
      "\u001B[0;32m~/opt/anaconda3/envs/aeed-master/lib/python3.6/site-packages/keras/utils/generic_utils.py\u001B[0m in \u001B[0;36mserialize_keras_object\u001B[0;34m(instance)\u001B[0m\n\u001B[1;32m    506\u001B[0m         return serialize_keras_class_and_config(\n\u001B[1;32m    507\u001B[0m             name, {_LAYER_UNDEFINED_CONFIG_KEY: True})\n\u001B[0;32m--> 508\u001B[0;31m       \u001B[0;32mraise\u001B[0m \u001B[0me\u001B[0m\u001B[0;34m\u001B[0m\u001B[0;34m\u001B[0m\u001B[0m\n\u001B[0m\u001B[1;32m    509\u001B[0m     \u001B[0mserialization_config\u001B[0m \u001B[0;34m=\u001B[0m \u001B[0;34m{\u001B[0m\u001B[0;34m}\u001B[0m\u001B[0;34m\u001B[0m\u001B[0;34m\u001B[0m\u001B[0m\n\u001B[1;32m    510\u001B[0m     \u001B[0;32mfor\u001B[0m \u001B[0mkey\u001B[0m\u001B[0;34m,\u001B[0m \u001B[0mitem\u001B[0m \u001B[0;32min\u001B[0m \u001B[0mconfig\u001B[0m\u001B[0;34m.\u001B[0m\u001B[0mitems\u001B[0m\u001B[0;34m(\u001B[0m\u001B[0;34m)\u001B[0m\u001B[0;34m:\u001B[0m\u001B[0;34m\u001B[0m\u001B[0;34m\u001B[0m\u001B[0m\n",
      "\u001B[0;32m~/opt/anaconda3/envs/aeed-master/lib/python3.6/site-packages/keras/utils/generic_utils.py\u001B[0m in \u001B[0;36mserialize_keras_object\u001B[0;34m(instance)\u001B[0m\n\u001B[1;32m    501\u001B[0m     \u001B[0mname\u001B[0m \u001B[0;34m=\u001B[0m \u001B[0mget_registered_name\u001B[0m\u001B[0;34m(\u001B[0m\u001B[0minstance\u001B[0m\u001B[0;34m.\u001B[0m\u001B[0m__class__\u001B[0m\u001B[0;34m)\u001B[0m\u001B[0;34m\u001B[0m\u001B[0;34m\u001B[0m\u001B[0m\n\u001B[1;32m    502\u001B[0m     \u001B[0;32mtry\u001B[0m\u001B[0;34m:\u001B[0m\u001B[0;34m\u001B[0m\u001B[0;34m\u001B[0m\u001B[0m\n\u001B[0;32m--> 503\u001B[0;31m       \u001B[0mconfig\u001B[0m \u001B[0;34m=\u001B[0m \u001B[0minstance\u001B[0m\u001B[0;34m.\u001B[0m\u001B[0mget_config\u001B[0m\u001B[0;34m(\u001B[0m\u001B[0;34m)\u001B[0m\u001B[0;34m\u001B[0m\u001B[0;34m\u001B[0m\u001B[0m\n\u001B[0m\u001B[1;32m    504\u001B[0m     \u001B[0;32mexcept\u001B[0m \u001B[0mNotImplementedError\u001B[0m \u001B[0;32mas\u001B[0m \u001B[0me\u001B[0m\u001B[0;34m:\u001B[0m\u001B[0;34m\u001B[0m\u001B[0;34m\u001B[0m\u001B[0m\n\u001B[1;32m    505\u001B[0m       \u001B[0;32mif\u001B[0m \u001B[0m_SKIP_FAILED_SERIALIZATION\u001B[0m\u001B[0;34m:\u001B[0m\u001B[0;34m\u001B[0m\u001B[0;34m\u001B[0m\u001B[0m\n",
      "\u001B[0;32m~/opt/anaconda3/envs/aeed-master/lib/python3.6/site-packages/keras/engine/base_layer.py\u001B[0m in \u001B[0;36mget_config\u001B[0;34m(self)\u001B[0m\n\u001B[1;32m    727\u001B[0m       raise NotImplementedError('Layer %s has arguments in `__init__` and '\n\u001B[1;32m    728\u001B[0m                                 \u001B[0;34m'therefore must override `get_config`.'\u001B[0m \u001B[0;34m%\u001B[0m\u001B[0;34m\u001B[0m\u001B[0;34m\u001B[0m\u001B[0m\n\u001B[0;32m--> 729\u001B[0;31m                                 self.__class__.__name__)\n\u001B[0m\u001B[1;32m    730\u001B[0m     \u001B[0;32mreturn\u001B[0m \u001B[0mconfig\u001B[0m\u001B[0;34m\u001B[0m\u001B[0;34m\u001B[0m\u001B[0m\n\u001B[1;32m    731\u001B[0m \u001B[0;34m\u001B[0m\u001B[0m\n",
      "\u001B[0;31mNotImplementedError\u001B[0m: Layer DenseTied has arguments in `__init__` and therefore must override `get_config`."
     ]
    }
   ],
   "source": [
    "# save autoencoder\n",
    "autoencoder.save('autoencoder')\n",
    "del autoencoder"
   ]
  },
  {
   "cell_type": "markdown",
   "metadata": {},
   "source": [
    "### Compare ROC curves"
   ]
  },
  {
   "cell_type": "code",
   "execution_count": null,
   "metadata": {
    "collapsed": true
   },
   "outputs": [],
   "source": [
    "# load autoencoder\n",
    "autoencoder = load_AEED('autoencoder.json','autoencoder.h5')\n",
    "\n",
    "# get validation reconstruction errors\n",
    "_, validation_errors = autoencoder.predict(X2)"
   ]
  },
  {
   "cell_type": "code",
   "execution_count": null,
   "metadata": {},
   "outputs": [],
   "source": [
    "def compute_roc_curve(X, Y, window, quantiles, verbose = False):    \n",
    "    print('Computing ROC curve for window = %d'%(window))    \n",
    "    df_roc = pd.DataFrame(index = quantiles, columns = ['fpr','tpr'])\n",
    "    for qtile in quantiles:\n",
    "        # compute results\n",
    "        theta = validation_errors.mean(axis = 1).quantile(qtile)\n",
    "        if verbose:\n",
    "            print('Quantile: {0:.3f}, threshold value: {1:.5}'.format(qtile,theta))\n",
    "        Yhat, _ = autoencoder.detect(X, theta = theta, window = window, average=True)\n",
    "        CM = confusion_matrix(Y,Yhat)\n",
    "        TN = CM[0,0]\n",
    "        FP = CM[0,1]\n",
    "        FN = CM[1,0]\n",
    "        TP = CM[1,1]        \n",
    "        fpr = FP/(FP+TN)\n",
    "        tpr = TP/(TP+FN) # or recall_score, same stuff\n",
    "        df_roc.loc[qtile,:] = [fpr, tpr]\n",
    "\n",
    "    # compute auc\n",
    "    df_roc.loc[0,:] = (1,1)\n",
    "    df_roc.loc[1000,:] = (0,0)    \n",
    "    area = auc(df_roc['fpr'],df_roc['tpr'], reorder =True)\n",
    "        \n",
    "    return df_roc.sort_index(), area\n"
   ]
  },
  {
   "cell_type": "code",
   "execution_count": null,
   "metadata": {},
   "outputs": [],
   "source": [
    "windows = [1,3,6,12]\n",
    "colors = ['blue', 'green', 'black', 'red']\n",
    "markers = ['s','o','x','v']\n",
    "\n",
    "thresholds = np.linspace(0.8,1,51)\n",
    "f, ax = plt.subplots(1,figsize=(10,10))\n",
    "for window, color, marker in zip(windows,colors,markers):\n",
    "    df_roc, area = compute_roc_curve(X3, Y3, window, thresholds)\n",
    "    ax.plot(df_roc.fpr, df_roc.tpr,color = color, lw = 0, linestyle = None, \n",
    "        marker = marker, markersize = 10, markerfacecolor = color, \n",
    "            label='Window: {0:d} hours, AUC: {1:.3f}'.format(window,area))\n",
    "ax.legend(fontsize = 15)"
   ]
  },
  {
   "cell_type": "code",
   "execution_count": null,
   "metadata": {
    "pycharm": {
     "name": "#%%\n"
    }
   },
   "outputs": [],
   "source": []
  }
 ],
 "metadata": {
  "kernelspec": {
   "display_name": "Python 3 (ipykernel)",
   "language": "python",
   "name": "python3"
  },
  "language_info": {
   "codemirror_mode": {
    "name": "ipython",
    "version": 3
   },
   "file_extension": ".py",
   "mimetype": "text/x-python",
   "name": "python",
   "nbconvert_exporter": "python",
   "pygments_lexer": "ipython3",
   "version": "3.9.7"
  }
 },
 "nbformat": 4,
 "nbformat_minor": 2
}